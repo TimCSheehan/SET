{
 "cells": [
  {
   "cell_type": "code",
   "execution_count": 1,
   "metadata": {
    "collapsed": true
   },
   "outputs": [],
   "source": [
    "# no imports start from scratch\n",
    "colors = ('red','blu','grn')\n",
    "numbers = ('one','two','thr')\n",
    "shapes = ('circle','square','squigg')\n",
    "shades = ('full','line','blnk')"
   ]
  },
  {
   "cell_type": "code",
   "execution_count": 2,
   "metadata": {
    "collapsed": true
   },
   "outputs": [],
   "source": [
    "my_deck = list()\n",
    "for col in colors:\n",
    "    for num in numbers:\n",
    "        for shp in shapes:\n",
    "            for shd in shades:\n",
    "                my_deck.append((col,num,shp,shd))\n",
    "            "
   ]
  },
  {
   "cell_type": "code",
   "execution_count": 8,
   "metadata": {
    "collapsed": true
   },
   "outputs": [],
   "source": [
    "from random import shuffle, sample\n",
    "new_deck = shuffle(my_deck)\n",
    "import numpy as np\n",
    "from matplotlib import pyplot as plt"
   ]
  },
  {
   "cell_type": "code",
   "execution_count": 4,
   "metadata": {
    "collapsed": true
   },
   "outputs": [],
   "source": [
    "foo  =[x for x in range(3)]\n",
    "bar = shuffle(foo)"
   ]
  },
  {
   "cell_type": "code",
   "execution_count": 9,
   "metadata": {
    "collapsed": true
   },
   "outputs": [],
   "source": [
    "def get_deck(n_deck=1):\n",
    "    # constants\n",
    "    colors = ('red','blu','grn')\n",
    "    numbers = ('one','two','thr')\n",
    "    shapes = ('circle','square','squigg')\n",
    "    shades = ('full','line','blnk')\n",
    "    my_deck = list()\n",
    "    for col in colors:\n",
    "        for num in numbers:\n",
    "            for shp in shapes:\n",
    "                for shd in shades:\n",
    "                    my_deck.append((col,num,shp,shd))\n",
    "    deck_out = [sample(my_deck,len(my_deck)) for i in range(n_deck)]\n",
    "    return deck_out"
   ]
  },
  {
   "cell_type": "code",
   "execution_count": 10,
   "metadata": {
    "collapsed": true
   },
   "outputs": [],
   "source": [
    "def deal_deck(deck,cards_needed = 12):\n",
    "    n_missing = cards_needed- len(deck)\n",
    "    if (n_missing<0): n_missing=0\n",
    "    cards_needed -= n_missing\n",
    "    #print(cards_needed)\n",
    "    return deck[:cards_needed]"
   ]
  },
  {
   "cell_type": "code",
   "execution_count": 12,
   "metadata": {},
   "outputs": [
    {
     "data": {
      "text/plain": [
       "[('blu', 'one', 'circle', 'line'),\n",
       " ('red', 'thr', 'square', 'blnk'),\n",
       " ('red', 'one', 'circle', 'blnk'),\n",
       " ('red', 'one', 'squigg', 'full'),\n",
       " ('red', 'thr', 'squigg', 'line'),\n",
       " ('red', 'thr', 'square', 'full'),\n",
       " ('grn', 'one', 'circle', 'blnk'),\n",
       " ('red', 'one', 'squigg', 'line'),\n",
       " ('red', 'two', 'square', 'line'),\n",
       " ('grn', 'two', 'circle', 'full'),\n",
       " ('grn', 'two', 'circle', 'blnk'),\n",
       " ('red', 'two', 'circle', 'line')]"
      ]
     },
     "execution_count": 12,
     "metadata": {},
     "output_type": "execute_result"
    }
   ],
   "source": [
    "d1 = get_deck()\n",
    "hand = deal_deck(d1[0])\n",
    "hand"
   ]
  },
  {
   "cell_type": "code",
   "execution_count": 13,
   "metadata": {
    "collapsed": true
   },
   "outputs": [],
   "source": [
    "def subset(items): \n",
    "    # checks if 3 items (i.e colors of three cards) constitute a set\n",
    "    assert len(items)==3\n",
    "    if (items[0]==items[1]==items[2]) or (items[0]!=items[1]!=items[2]!=items[0]): return True\n",
    "    else: return False\n",
    "def SET(cards):\n",
    "    # checks if 3 cards constitute a set\n",
    "    assert len(cards)==3 # must be 3 cards\n",
    "    assert len(cards[0])==4 # normal set cards\n",
    "    for quality in range(len(cards[0])):\n",
    "        items = [x[quality] for x in cards]\n",
    "        is_good = subset(items)\n",
    "        if not is_good: return False # if Fail for any quality\n",
    "    return True"
   ]
  },
  {
   "cell_type": "code",
   "execution_count": 14,
   "metadata": {},
   "outputs": [
    {
     "data": {
      "text/plain": [
       "False"
      ]
     },
     "execution_count": 14,
     "metadata": {},
     "output_type": "execute_result"
    }
   ],
   "source": [
    "tmp1 = 'cat'\n",
    "tmp2 = 'dog'\n",
    "tmp3 = 'dog'\n",
    "tmp3==tmp3==tmp3\n",
    "tmp2!=tmp1!=tmp1"
   ]
  },
  {
   "cell_type": "code",
   "execution_count": 39,
   "metadata": {
    "collapsed": true
   },
   "outputs": [],
   "source": [
    "def search_hand_brute(hand,need_have=None):\n",
    "    # this method just looks at every hand in the deck starting with 1,2,3\n",
    "    # dumb implies it will repeat hands by iterating but this should actually be easy\n",
    "    # to eliminate by keeping a list of hands exausted in the first position\n",
    "    #\n",
    "    # need_have are novel cards that must be included in all hands to be attempted\n",
    "    #\n",
    "    # 12 choose 3 = 220\n",
    "    # 15 choose 3 = 455\n",
    "    # 18 choose 3 = 816\n",
    "    n_cards = len(hand)\n",
    "    good_c1 = [i for i in range(n_cards-2)]\n",
    "    good_c2 = [i for i in range(1,n_cards-1)]\n",
    "    good_c3 = [i for i in range(2,n_cards)]\n",
    "    cnt = 0\n",
    "    for c1 in good_c1:\n",
    "        if any(x==c1 for x in good_c2):\n",
    "            good_c2.remove(c1)\n",
    "        if any(x==c1 for x in good_c3):\n",
    "            good_c3.remove(c1)\n",
    "        for c2 in good_c2:\n",
    "            good_c3_use = [x for x in good_c3 if x>c2]\n",
    "            for c3 in good_c3_use:\n",
    "                c_use = [c1,c2,c3]\n",
    "                if need_have and not(any([x==y for x in c_use for y in need_have])): continue # skip old hands  \n",
    "                cards = [hand[i] for i in c_use]\n",
    "                cnt +=1\n",
    "                is_set = SET(cards)\n",
    "                if is_set:\n",
    "                    return True, cards, c_use, cnt\n",
    "    return False, [],[],cnt"
   ]
  },
  {
   "cell_type": "code",
   "execution_count": 40,
   "metadata": {},
   "outputs": [
    {
     "data": {
      "text/plain": [
       "True"
      ]
     },
     "execution_count": 40,
     "metadata": {},
     "output_type": "execute_result"
    }
   ],
   "source": [
    "foo = [1,2,3]\n",
    "bar = [4,10,1]\n",
    "foobar = any([x == y for x in foo for y in bar])\n",
    "foobar"
   ]
  },
  {
   "cell_type": "code",
   "execution_count": 162,
   "metadata": {
    "collapsed": true
   },
   "outputs": [],
   "source": [
    "def play_game(deck=get_deck(),search_fcn = search_hand_brute):\n",
    "    if len(deck)!=1: # semi-recursive iteration\n",
    "        all_sets = list()\n",
    "        all_cnts = list()\n",
    "        hands = list()\n",
    "        for i in range(len(deck)):\n",
    "            all_set,all_cnt,hand = play_game([deck[i]])\n",
    "            all_sets.append(all_set)\n",
    "            all_cnts.append(all_cnt)\n",
    "            hands.append(hand)\n",
    "        return all_sets,all_cnts,hands\n",
    "    \n",
    "    # function start\n",
    "    n_cards = 15\n",
    "    add_c = 3\n",
    "    #max_n_cards = 18 # not necessary\n",
    "    deck = deck[0]\n",
    "    hand = deal_deck(deck,n_cards)\n",
    "    are_sets = True\n",
    "    all_sets = list()\n",
    "    all_cnts = list()\n",
    "    lap = 0\n",
    "\n",
    "    while len(hand)>=3 and are_sets:\n",
    "        are_sets,this_set,this_ind,cnts = search_fcn(hand)\n",
    "        if not are_sets: \n",
    "            cnts_o = cnts\n",
    "            hand = deal_deck(deck,n_cards+add_c)\n",
    "            new_cards = [x for x in range(n_cards,n_cards+add_c)]\n",
    "            are_sets,this_set,this_ind,cnts = search_fcn(hand,new_cards)\n",
    "            cnts = cnts_o + cnts\n",
    "            if not are_sets: \n",
    "                cnts_o = cnts\n",
    "                hand = deal_deck(deck,n_cards+add_c+add_c)\n",
    "                new_cards = np.arange(n_cards+add_c,n_cards+add_c+add_c)\n",
    "                are_sets,this_set,this_ind,cnts = search_fcn(hand)\n",
    "                cnts = cnts_o + cnts\n",
    "                if not are_sets: break\n",
    "        all_sets.append(this_set)\n",
    "        all_cnts.append(cnts)\n",
    "        # for now always refresh hand after capturing\n",
    "        deck.remove(this_set[0])\n",
    "        deck.remove(this_set[1])\n",
    "        deck.remove(this_set[2])\n",
    "        hand = deal_deck(deck)\n",
    "        lap +=1\n",
    "    return all_sets,all_cnts,hand\n",
    "          "
   ]
  },
  {
   "cell_type": "code",
   "execution_count": 17,
   "metadata": {
    "collapsed": true
   },
   "outputs": [],
   "source": [
    "foo = list()\n",
    "foo.append(['a','b'])\n",
    "foo.append(['a','c'])"
   ]
  },
  {
   "cell_type": "code",
   "execution_count": 78,
   "metadata": {},
   "outputs": [],
   "source": [
    "dx = get_deck(20000)\n",
    "all_sets,all_cnts,bad_hand = play_game(dx)\n"
   ]
  },
  {
   "cell_type": "code",
   "execution_count": 79,
   "metadata": {},
   "outputs": [
    {
     "data": {
      "image/png": "[encoded data removed]",
      "text/plain": [
       "<matplotlib.figure.Figure at 0x10ef2f908>"
      ]
     },
     "metadata": {},
     "output_type": "display_data"
    }
   ],
   "source": [
    "cnt_cat = np.concatenate(all_cnts)\n",
    "plt.hist(cnt_cat,210)\n",
    "plt.xlabel('# of steps to solution')\n",
    "plt.ylabel('# out of 5000 games')\n",
    "plt.show()"
   ]
  },
  {
   "cell_type": "code",
   "execution_count": 68,
   "metadata": {},
   "outputs": [],
   "source": [
    "cnt_cat2 = np.concatenate(all_cnts)\n",
    "cnts,bns = np.histogram(cnt_cat2,60)"
   ]
  },
  {
   "cell_type": "code",
   "execution_count": 83,
   "metadata": {},
   "outputs": [
    {
     "data": {
      "image/png": "[encoded data removed]",
      "text/plain": [
       "<matplotlib.figure.Figure at 0x10f722eb8>"
      ]
     },
     "metadata": {},
     "output_type": "display_data"
    }
   ],
   "source": [
    "plt.loglog(bns[1:],cnts)\n",
    "plt.xlabel('# Attempts')\n",
    "plt.ylabel('# Hands')\n",
    "plt.show()"
   ]
  },
  {
   "cell_type": "code",
   "execution_count": 161,
   "metadata": {},
   "outputs": [
    {
     "name": "stderr",
     "output_type": "stream",
     "text": [
      "/Users/tim/anaconda3/lib/python3.6/site-packages/ipykernel_launcher.py:1: RuntimeWarning: divide by zero encountered in log\n",
      "  \"\"\"Entry point for launching an IPython kernel.\n"
     ]
    },
    {
     "data": {
      "image/png": "[encoded data removed]",
      "text/plain": [
       "<matplotlib.figure.Figure at 0x11a3e3b38>"
      ]
     },
     "metadata": {},
     "output_type": "display_data"
    }
   ],
   "source": [
    "plt.plot(np.log(bns[1:]),np.log(cnts))\n",
    "y_locs = np.array(plt.yticks()[0])\n",
    "y_vals = np.round(np.exp(y_locs)).astype(int)\n",
    "x_locs = np.array(plt.xticks()[0])\n",
    "x_vals = np.round(np.exp(x_locs)).astype(int)\n",
    "plt.xticks(x_locs,x_vals)\n",
    "plt.yticks(y_locs,y_vals)\n",
    "plt.xlabel('# Attempts')\n",
    "plt.ylabel('# Hands')\n",
    "plt.tight_layout()\n",
    "plt.show()"
   ]
  },
  {
   "cell_type": "code",
   "execution_count": 170,
   "metadata": {},
   "outputs": [
    {
     "name": "stdout",
     "output_type": "stream",
     "text": [
      "About 1 in 18.07  hands\n"
     ]
    }
   ],
   "source": [
    "# Calculate % of hands requiring an extra deal\n",
    "n_hands_12 = 220 # 12 choose 3\n",
    "p_no12 = np.mean(cnt_cat2>n_hands_12)\n",
    "print('About 1 in', round(1/p_no12,2),' hands') \n",
    "# This is off of theoretical value (1/33) need to converge before moving forward"
   ]
  },
  {
   "cell_type": "code",
   "execution_count": null,
   "metadata": {
    "collapsed": true
   },
   "outputs": [],
   "source": []
  }
 ],
 "metadata": {
  "kernelspec": {
   "display_name": "Python 3",
   "language": "python",
   "name": "python3"
  },
  "language_info": {
   "codemirror_mode": {
    "name": "ipython",
    "version": 3
   },
   "file_extension": ".py",
   "mimetype": "text/x-python",
   "name": "python",
   "nbconvert_exporter": "python",
   "pygments_lexer": "ipython3",
   "version": "3.6.3"
  }
 },
 "nbformat": 4,
 "nbformat_minor": 2
}
