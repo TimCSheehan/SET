{
 "cells": [
  {
   "cell_type": "code",
   "execution_count": 12,
   "metadata": {},
   "outputs": [],
   "source": [
    "# no imports start from scratch\n",
    "colors = ('red','blu','grn')\n",
    "numbers = ('one','two','thr')\n",
    "shapes = ('circle','square','squigg')\n",
    "shades = ('full','line','blnk')"
   ]
  },
  {
   "cell_type": "code",
   "execution_count": 13,
   "metadata": {},
   "outputs": [],
   "source": [
    "my_deck = list()\n",
    "for col in colors:\n",
    "    for num in numbers:\n",
    "        for shp in shapes:\n",
    "            for shd in shades:\n",
    "                my_deck.append((col,num,shp,shd))\n",
    "            "
   ]
  },
  {
   "cell_type": "code",
   "execution_count": 25,
   "metadata": {},
   "outputs": [],
   "source": [
    "from random import shuffle\n",
    "new_deck = shuffle(my_deck)"
   ]
  },
  {
   "cell_type": "code",
   "execution_count": 45,
   "metadata": {},
   "outputs": [],
   "source": [
    "foo  =[x for x in range(3)]\n",
    "bar = shuffle(foo)"
   ]
  },
  {
   "cell_type": "code",
   "execution_count": 58,
   "metadata": {},
   "outputs": [],
   "source": [
    "def get_deck(n_deck=1):\n",
    "    # constants\n",
    "    colors = ('red','blu','grn')\n",
    "    numbers = ('one','two','thr')\n",
    "    shapes = ('circle','square','squigg')\n",
    "    shades = ('full','line','blnk')\n",
    "    my_deck = list()\n",
    "    for col in colors:\n",
    "        for num in numbers:\n",
    "            for shp in shapes:\n",
    "                for shd in shades:\n",
    "                    my_deck.append((col,num,shp,shd))\n",
    "    deck_out = [sample(my_deck,len(my_deck)) for i in range(n_deck)]\n",
    "    return deck_out"
   ]
  },
  {
   "cell_type": "code",
   "execution_count": 77,
   "metadata": {},
   "outputs": [],
   "source": [
    "def deal_deck(deck,cards_needed = 12):\n",
    "    n_missing = cards_needed- len(deck)\n",
    "    if (n_missing<0): n_missing=0\n",
    "    cards_needed -= n_missing\n",
    "    #print(cards_needed)\n",
    "    return deck[:cards_needed]"
   ]
  },
  {
   "cell_type": "code",
   "execution_count": 79,
   "metadata": {},
   "outputs": [
    {
     "name": "stdout",
     "output_type": "stream",
     "text": [
      "12\n"
     ]
    },
    {
     "data": {
      "text/plain": [
       "[('blu', 'one', 'circle', 'blnk'),\n",
       " ('red', 'thr', 'square', 'full'),\n",
       " ('grn', 'one', 'squigg', 'line'),\n",
       " ('blu', 'one', 'squigg', 'line'),\n",
       " ('grn', 'thr', 'squigg', 'full'),\n",
       " ('blu', 'two', 'circle', 'line'),\n",
       " ('blu', 'thr', 'squigg', 'blnk'),\n",
       " ('blu', 'one', 'square', 'blnk'),\n",
       " ('red', 'one', 'square', 'blnk'),\n",
       " ('grn', 'one', 'square', 'full'),\n",
       " ('red', 'two', 'circle', 'full'),\n",
       " ('grn', 'one', 'circle', 'full')]"
      ]
     },
     "execution_count": 79,
     "metadata": {},
     "output_type": "execute_result"
    }
   ],
   "source": [
    "d1 = get_deck()\n",
    "hand = deal_deck(d1[0])\n",
    "hand"
   ]
  },
  {
   "cell_type": "code",
   "execution_count": 115,
   "metadata": {},
   "outputs": [],
   "source": [
    "def subset(items): \n",
    "    # checks if 3 items (i.e colors of three cards) constitute a set\n",
    "    assert len(items)==3\n",
    "    if (items[0]==items[1]==items[2]) or (items[0]!=items[1]!=items[2]!=items[0]): return True\n",
    "    else: return False\n",
    "def SET(cards):\n",
    "    # checks if 3 cards constitute a set\n",
    "    assert len(cards)==3 # must be 3 cards\n",
    "    assert len(cards[0])==4 # normal set cards\n",
    "    for quality in range(len(cards[0])):\n",
    "        items = [x[quality] for x in cards]\n",
    "        is_good = subset(items)\n",
    "        if not is_good: return False # if Fail for any quality\n",
    "    return True"
   ]
  },
  {
   "cell_type": "code",
   "execution_count": 100,
   "metadata": {},
   "outputs": [
    {
     "data": {
      "text/plain": [
       "False"
      ]
     },
     "execution_count": 100,
     "metadata": {},
     "output_type": "execute_result"
    }
   ],
   "source": [
    "tmp1 = 'cat'\n",
    "tmp2 = 'dog'\n",
    "tmp3 = 'dog'\n",
    "tmp3==tmp3==tmp3\n",
    "tmp2!=tmp1!=tmp1"
   ]
  },
  {
   "cell_type": "code",
   "execution_count": 193,
   "metadata": {},
   "outputs": [],
   "source": [
    "def search_hand_brute_dumb(hand):\n",
    "    # this method just looks at every hand in the deck starting with 1,2,3\n",
    "    # dumb implies it will repeat hands by iterating but this should actually be easy\n",
    "    # to eliminate by keeping a list of hands exausted in the first position\n",
    "    n_cards = len(hand)\n",
    "    good_c1 = [i for i in range(n_cards-2)]\n",
    "    good_c2 = [i for i in range(1,n_cards-1)]\n",
    "    good_c3 = [i for i in range(2,n_cards-1)]\n",
    "    cnt = 0\n",
    "    for c1 in good_c1:\n",
    "        if any(x==c1 for x in good_c2):\n",
    "            good_c2.remove(c1)\n",
    "        if any(x==c1 for x in good_c3):\n",
    "            good_c3.remove(c1)\n",
    "        for c2 in good_c2:\n",
    "            good_c3_use = [x for x in good_c3 if x>c2]\n",
    "            for c3 in good_c3_use:\n",
    "                c_use = [c1,c2,c3]\n",
    "                cards = [hand[i] for i in c_use]\n",
    "                cnt +=1\n",
    "                is_set = SET(cards)\n",
    "                if is_set:\n",
    "                    return True, cards, c_use, cnt\n",
    "    return False, [],[],cnt"
   ]
  },
  {
   "cell_type": "code",
   "execution_count": null,
   "metadata": {
    "collapsed": true
   },
   "outputs": [],
   "source": []
  }
 ],
 "metadata": {
  "kernelspec": {
   "display_name": "Python 3",
   "language": "python",
   "name": "python3"
  },
  "language_info": {
   "codemirror_mode": {
    "name": "ipython",
    "version": 3
   },
   "file_extension": ".py",
   "mimetype": "text/x-python",
   "name": "python",
   "nbconvert_exporter": "python",
   "pygments_lexer": "ipython3",
   "version": "3.6.3"
  }
 },
 "nbformat": 4,
 "nbformat_minor": 2
}
