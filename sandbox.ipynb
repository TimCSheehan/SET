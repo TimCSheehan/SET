{
 "cells": [
  {
   "cell_type": "code",
   "execution_count": 12,
   "metadata": {},
   "outputs": [],
   "source": [
    "# no imports start from scratch\n",
    "colors = ('red','blu','grn')\n",
    "numbers = ('one','two','thr')\n",
    "shapes = ('circle','square','squigg')\n",
    "shades = ('full','line','blnk')"
   ]
  },
  {
   "cell_type": "code",
   "execution_count": 13,
   "metadata": {},
   "outputs": [],
   "source": [
    "my_deck = list()\n",
    "for col in colors:\n",
    "    for num in numbers:\n",
    "        for shp in shapes:\n",
    "            for shd in shades:\n",
    "                my_deck.append((col,num,shp,shd))\n",
    "            "
   ]
  },
  {
   "cell_type": "code",
   "execution_count": 25,
   "metadata": {},
   "outputs": [],
   "source": [
    "from random import shuffle\n",
    "new_deck = shuffle(my_deck)"
   ]
  },
  {
   "cell_type": "code",
   "execution_count": 45,
   "metadata": {},
   "outputs": [],
   "source": [
    "foo  =[x for x in range(3)]\n",
    "bar = shuffle(foo)"
   ]
  },
  {
   "cell_type": "code",
   "execution_count": 58,
   "metadata": {},
   "outputs": [],
   "source": [
    "def get_deck(n_deck=1):\n",
    "    # constants\n",
    "    colors = ('red','blu','grn')\n",
    "    numbers = ('one','two','thr')\n",
    "    shapes = ('circle','square','squigg')\n",
    "    shades = ('full','line','blnk')\n",
    "    my_deck = list()\n",
    "    for col in colors:\n",
    "        for num in numbers:\n",
    "            for shp in shapes:\n",
    "                for shd in shades:\n",
    "                    my_deck.append((col,num,shp,shd))\n",
    "    deck_out = [sample(my_deck,len(my_deck)) for i in range(n_deck)]\n",
    "    return deck_out"
   ]
  },
  {
   "cell_type": "code",
   "execution_count": 247,
   "metadata": {},
   "outputs": [],
   "source": [
    "def deal_deck(deck,cards_needed = 12):\n",
    "    n_missing = cards_needed- len(deck)\n",
    "    if (n_missing<0): n_missing=0\n",
    "    cards_needed -= n_missing\n",
    "    #print(cards_needed)\n",
    "    return deck[:cards_needed]"
   ]
  },
  {
   "cell_type": "code",
   "execution_count": 246,
   "metadata": {},
   "outputs": [
    {
     "name": "stdout",
     "output_type": "stream",
     "text": [
      "12\n"
     ]
    },
    {
     "data": {
      "text/plain": [
       "[('blu', 'two', 'circle', 'line'),\n",
       " ('blu', 'thr', 'square', 'blnk'),\n",
       " ('red', 'two', 'squigg', 'blnk'),\n",
       " ('grn', 'one', 'circle', 'line'),\n",
       " ('blu', 'thr', 'circle', 'line'),\n",
       " ('grn', 'thr', 'circle', 'full'),\n",
       " ('grn', 'two', 'circle', 'blnk'),\n",
       " ('grn', 'two', 'squigg', 'line'),\n",
       " ('red', 'thr', 'squigg', 'line'),\n",
       " ('grn', 'one', 'circle', 'full'),\n",
       " ('blu', 'one', 'circle', 'line'),\n",
       " ('grn', 'thr', 'squigg', 'line')]"
      ]
     },
     "execution_count": 246,
     "metadata": {},
     "output_type": "execute_result"
    }
   ],
   "source": [
    "d1 = get_deck()\n",
    "hand = deal_deck(d1[0])\n",
    "hand"
   ]
  },
  {
   "cell_type": "code",
   "execution_count": 115,
   "metadata": {},
   "outputs": [],
   "source": [
    "def subset(items): \n",
    "    # checks if 3 items (i.e colors of three cards) constitute a set\n",
    "    assert len(items)==3\n",
    "    if (items[0]==items[1]==items[2]) or (items[0]!=items[1]!=items[2]!=items[0]): return True\n",
    "    else: return False\n",
    "def SET(cards):\n",
    "    # checks if 3 cards constitute a set\n",
    "    assert len(cards)==3 # must be 3 cards\n",
    "    assert len(cards[0])==4 # normal set cards\n",
    "    for quality in range(len(cards[0])):\n",
    "        items = [x[quality] for x in cards]\n",
    "        is_good = subset(items)\n",
    "        if not is_good: return False # if Fail for any quality\n",
    "    return True"
   ]
  },
  {
   "cell_type": "code",
   "execution_count": 100,
   "metadata": {},
   "outputs": [
    {
     "data": {
      "text/plain": [
       "False"
      ]
     },
     "execution_count": 100,
     "metadata": {},
     "output_type": "execute_result"
    }
   ],
   "source": [
    "tmp1 = 'cat'\n",
    "tmp2 = 'dog'\n",
    "tmp3 = 'dog'\n",
    "tmp3==tmp3==tmp3\n",
    "tmp2!=tmp1!=tmp1"
   ]
  },
  {
   "cell_type": "code",
   "execution_count": 329,
   "metadata": {},
   "outputs": [],
   "source": [
    "def search_hand_brute(hand):\n",
    "    # this method just looks at every hand in the deck starting with 1,2,3\n",
    "    # dumb implies it will repeat hands by iterating but this should actually be easy\n",
    "    # to eliminate by keeping a list of hands exausted in the first position\n",
    "    #\n",
    "    # 12 choose 3 = 220\n",
    "    # 15 choose 3 = 455\n",
    "    # 18 choose 3 = 816\n",
    "    n_cards = len(hand)\n",
    "    good_c1 = [i for i in range(n_cards-2)]\n",
    "    good_c2 = [i for i in range(1,n_cards-1)]\n",
    "    good_c3 = [i for i in range(2,n_cards)]\n",
    "    cnt = 0\n",
    "    for c1 in good_c1:\n",
    "        if any(x==c1 for x in good_c2):\n",
    "            good_c2.remove(c1)\n",
    "        if any(x==c1 for x in good_c3):\n",
    "            good_c3.remove(c1)\n",
    "        for c2 in good_c2:\n",
    "            good_c3_use = [x for x in good_c3 if x>c2]\n",
    "            for c3 in good_c3_use:\n",
    "                c_use = [c1,c2,c3]\n",
    "                cards = [hand[i] for i in c_use]\n",
    "                cnt +=1\n",
    "                is_set = SET(cards)\n",
    "                if is_set:\n",
    "                    return True, cards, c_use, cnt\n",
    "    return False, [],[],cnt"
   ]
  },
  {
   "cell_type": "code",
   "execution_count": 342,
   "metadata": {},
   "outputs": [],
   "source": [
    "def play_game(deck=get_deck(),search_fcn = search_hand_brute):\n",
    "    if len(deck)!=1: # semi-recursive iteration\n",
    "        all_sets = list()\n",
    "        all_cnts = list()\n",
    "        hands = list()\n",
    "        for i in range(len(deck)):\n",
    "            all_set,all_cnt,hand = play_game([deck[i]])\n",
    "            all_sets.append(all_set)\n",
    "            all_cnts.append(all_cnt)\n",
    "            hands.append(hand)\n",
    "        return all_sets,all_cnts,hands\n",
    "    \n",
    "    # function start\n",
    "    n_cards = 15\n",
    "    add_c = 3\n",
    "    #max_n_cards = 18 # not necessary\n",
    "    deck = deck[0]\n",
    "    hand = deal_deck(deck,n_cards)\n",
    "    are_sets = True\n",
    "    all_sets = list()\n",
    "    all_cnts = list()\n",
    "    lap = 0\n",
    "\n",
    "    while len(hand)>=3 and are_sets:\n",
    "        are_sets,this_set,this_ind,cnts = search_fcn(hand)\n",
    "        if not are_sets: \n",
    "            hand = deal_deck(deck,n_cards+add_c)\n",
    "            are_sets,this_set,this_ind,cnts = search_fcn(hand)\n",
    "            if not are_sets: \n",
    "                hand = deal_deck(deck,n_cards+add_c+add_c)\n",
    "                are_sets,this_set,this_ind,cnts = search_fcn(hand)\n",
    "                if not are_sets: break\n",
    "        all_sets.append(this_set)\n",
    "        all_cnts.append(cnts)\n",
    "        # for now always refresh hand after capturing\n",
    "        deck.remove(this_set[0])\n",
    "        deck.remove(this_set[1])\n",
    "        deck.remove(this_set[2])\n",
    "        hand = deal_deck(deck)\n",
    "        lap +=1\n",
    "        #print('Set #',lap ,'found')\n",
    "    return all_sets,all_cnts,hand\n",
    "          "
   ]
  },
  {
   "cell_type": "code",
   "execution_count": 214,
   "metadata": {
    "collapsed": true
   },
   "outputs": [],
   "source": [
    "foo = list()\n",
    "foo.append(['a','b'])\n",
    "foo.append(['a','c'])"
   ]
  },
  {
   "cell_type": "code",
   "execution_count": 343,
   "metadata": {},
   "outputs": [],
   "source": [
    "dx = get_deck(5000)\n",
    "all_sets,all_cnts,bad_hand = play_game(dx)\n"
   ]
  },
  {
   "cell_type": "code",
   "execution_count": 273,
   "metadata": {},
   "outputs": [
    {
     "data": {
      "text/plain": [
       "(False, [], [], 220)"
      ]
     },
     "execution_count": 273,
     "metadata": {},
     "output_type": "execute_result"
    }
   ],
   "source": [
    "search_hand_brute_dumb(bad_hand)"
   ]
  },
  {
   "cell_type": "code",
   "execution_count": 317,
   "metadata": {},
   "outputs": [],
   "source": [
    "import numpy as np\n",
    "from matplotlib import pyplot as plt"
   ]
  },
  {
   "cell_type": "code",
   "execution_count": 328,
   "metadata": {},
   "outputs": [
    {
     "data": {
      "image/png": "[encoded data removed]",
      "text/plain": [
       "<matplotlib.figure.Figure at 0x112cc5898>"
      ]
     },
     "metadata": {},
     "output_type": "display_data"
    }
   ],
   "source": [
    "cnt_cat = np.concatenate(all_cnts)\n",
    "plt.hist(cnt_cat,210)\n",
    "plt.xlabel('# of steps to solution')\n",
    "plt.ylabel('# out of 5000 games')\n",
    "plt.show()"
   ]
  },
  {
   "cell_type": "code",
   "execution_count": 341,
   "metadata": {},
   "outputs": [
    {
     "data": {
      "image/png": "[encoded data removed]",
      "text/plain": [
       "<matplotlib.figure.Figure at 0x107cf2be0>"
      ]
     },
     "metadata": {},
     "output_type": "display_data"
    }
   ],
   "source": [
    "cnt_cat2 = np.concatenate(all_cnts)\n",
    "plt.hist(cnt_cat2,210)\n",
    "plt.xlabel('# of steps to solution')\n",
    "plt.ylabel('# out of 5000 games')\n",
    "plt.show()"
   ]
  },
  {
   "cell_type": "code",
   "execution_count": null,
   "metadata": {
    "collapsed": true
   },
   "outputs": [],
   "source": []
  }
 ],
 "metadata": {
  "kernelspec": {
   "display_name": "Python 3",
   "language": "python",
   "name": "python3"
  },
  "language_info": {
   "codemirror_mode": {
    "name": "ipython",
    "version": 3
   },
   "file_extension": ".py",
   "mimetype": "text/x-python",
   "name": "python",
   "nbconvert_exporter": "python",
   "pygments_lexer": "ipython3",
   "version": "3.6.3"
  }
 },
 "nbformat": 4,
 "nbformat_minor": 2
}
